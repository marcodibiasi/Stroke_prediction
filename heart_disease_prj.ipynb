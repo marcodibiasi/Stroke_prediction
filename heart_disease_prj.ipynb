{
 "cells": [
  {
   "cell_type": "code",
   "execution_count": 2,
   "id": "35a2fb4c",
   "metadata": {},
   "outputs": [],
   "source": [
    "import pandas as pd\n",
    "import numpy as np\n",
    "from sklearn.model_selection import train_test_split\n",
    "from sklearn.linear_model import LogisticRegression\n",
    "import matplotlib.pyplot as plt\n",
    "from imblearn.over_sampling import SMOTE\n",
    "from sklearn.metrics import confusion_matrix, ConfusionMatrixDisplay, recall_score\n",
    "import seaborn as sns"
   ]
  },
  {
   "cell_type": "markdown",
   "id": "60ca8e39",
   "metadata": {},
   "source": [
    "## Import the dataset"
   ]
  },
  {
   "cell_type": "code",
   "execution_count": 3,
   "id": "5cb3f89f",
   "metadata": {},
   "outputs": [],
   "source": [
    "df = pd.read_csv(\"/Users/marcodibiasi/Desktop/Programmazione/Python/dsprojects/healthcare-dataset-stroke-data.csv\")"
   ]
  },
  {
   "cell_type": "code",
   "execution_count": 4,
   "id": "a8298944",
   "metadata": {
    "scrolled": true
   },
   "outputs": [
    {
     "data": {
      "text/html": [
       "<div>\n",
       "<style scoped>\n",
       "    .dataframe tbody tr th:only-of-type {\n",
       "        vertical-align: middle;\n",
       "    }\n",
       "\n",
       "    .dataframe tbody tr th {\n",
       "        vertical-align: top;\n",
       "    }\n",
       "\n",
       "    .dataframe thead th {\n",
       "        text-align: right;\n",
       "    }\n",
       "</style>\n",
       "<table border=\"1\" class=\"dataframe\">\n",
       "  <thead>\n",
       "    <tr style=\"text-align: right;\">\n",
       "      <th></th>\n",
       "      <th>id</th>\n",
       "      <th>gender</th>\n",
       "      <th>age</th>\n",
       "      <th>hypertension</th>\n",
       "      <th>heart_disease</th>\n",
       "      <th>ever_married</th>\n",
       "      <th>work_type</th>\n",
       "      <th>Residence_type</th>\n",
       "      <th>avg_glucose_level</th>\n",
       "      <th>bmi</th>\n",
       "      <th>smoking_status</th>\n",
       "      <th>stroke</th>\n",
       "    </tr>\n",
       "  </thead>\n",
       "  <tbody>\n",
       "    <tr>\n",
       "      <th>5105</th>\n",
       "      <td>18234</td>\n",
       "      <td>Female</td>\n",
       "      <td>80.0</td>\n",
       "      <td>1</td>\n",
       "      <td>0</td>\n",
       "      <td>Yes</td>\n",
       "      <td>Private</td>\n",
       "      <td>Urban</td>\n",
       "      <td>83.75</td>\n",
       "      <td>NaN</td>\n",
       "      <td>never smoked</td>\n",
       "      <td>0</td>\n",
       "    </tr>\n",
       "    <tr>\n",
       "      <th>5106</th>\n",
       "      <td>44873</td>\n",
       "      <td>Female</td>\n",
       "      <td>81.0</td>\n",
       "      <td>0</td>\n",
       "      <td>0</td>\n",
       "      <td>Yes</td>\n",
       "      <td>Self-employed</td>\n",
       "      <td>Urban</td>\n",
       "      <td>125.20</td>\n",
       "      <td>40.0</td>\n",
       "      <td>never smoked</td>\n",
       "      <td>0</td>\n",
       "    </tr>\n",
       "    <tr>\n",
       "      <th>5107</th>\n",
       "      <td>19723</td>\n",
       "      <td>Female</td>\n",
       "      <td>35.0</td>\n",
       "      <td>0</td>\n",
       "      <td>0</td>\n",
       "      <td>Yes</td>\n",
       "      <td>Self-employed</td>\n",
       "      <td>Rural</td>\n",
       "      <td>82.99</td>\n",
       "      <td>30.6</td>\n",
       "      <td>never smoked</td>\n",
       "      <td>0</td>\n",
       "    </tr>\n",
       "    <tr>\n",
       "      <th>5108</th>\n",
       "      <td>37544</td>\n",
       "      <td>Male</td>\n",
       "      <td>51.0</td>\n",
       "      <td>0</td>\n",
       "      <td>0</td>\n",
       "      <td>Yes</td>\n",
       "      <td>Private</td>\n",
       "      <td>Rural</td>\n",
       "      <td>166.29</td>\n",
       "      <td>25.6</td>\n",
       "      <td>formerly smoked</td>\n",
       "      <td>0</td>\n",
       "    </tr>\n",
       "    <tr>\n",
       "      <th>5109</th>\n",
       "      <td>44679</td>\n",
       "      <td>Female</td>\n",
       "      <td>44.0</td>\n",
       "      <td>0</td>\n",
       "      <td>0</td>\n",
       "      <td>Yes</td>\n",
       "      <td>Govt_job</td>\n",
       "      <td>Urban</td>\n",
       "      <td>85.28</td>\n",
       "      <td>26.2</td>\n",
       "      <td>Unknown</td>\n",
       "      <td>0</td>\n",
       "    </tr>\n",
       "  </tbody>\n",
       "</table>\n",
       "</div>"
      ],
      "text/plain": [
       "         id  gender   age  hypertension  heart_disease ever_married  \\\n",
       "5105  18234  Female  80.0             1              0          Yes   \n",
       "5106  44873  Female  81.0             0              0          Yes   \n",
       "5107  19723  Female  35.0             0              0          Yes   \n",
       "5108  37544    Male  51.0             0              0          Yes   \n",
       "5109  44679  Female  44.0             0              0          Yes   \n",
       "\n",
       "          work_type Residence_type  avg_glucose_level   bmi   smoking_status  \\\n",
       "5105        Private          Urban              83.75   NaN     never smoked   \n",
       "5106  Self-employed          Urban             125.20  40.0     never smoked   \n",
       "5107  Self-employed          Rural              82.99  30.6     never smoked   \n",
       "5108        Private          Rural             166.29  25.6  formerly smoked   \n",
       "5109       Govt_job          Urban              85.28  26.2          Unknown   \n",
       "\n",
       "      stroke  \n",
       "5105       0  \n",
       "5106       0  \n",
       "5107       0  \n",
       "5108       0  \n",
       "5109       0  "
      ]
     },
     "execution_count": 4,
     "metadata": {},
     "output_type": "execute_result"
    }
   ],
   "source": [
    "df.tail()"
   ]
  },
  {
   "cell_type": "code",
   "execution_count": 5,
   "id": "3733d5bb",
   "metadata": {},
   "outputs": [
    {
     "data": {
      "text/plain": [
       "12"
      ]
     },
     "execution_count": 5,
     "metadata": {},
     "output_type": "execute_result"
    }
   ],
   "source": [
    "len(df.columns)"
   ]
  },
  {
   "cell_type": "markdown",
   "id": "b5382f44",
   "metadata": {},
   "source": [
    "## Clean the dataset"
   ]
  },
  {
   "cell_type": "code",
   "execution_count": 6,
   "id": "abe64d6d",
   "metadata": {},
   "outputs": [],
   "source": [
    "df.dropna(inplace=True)"
   ]
  },
  {
   "cell_type": "code",
   "execution_count": 7,
   "id": "61672520",
   "metadata": {},
   "outputs": [],
   "source": [
    "#take the class of each feature\n",
    "\n",
    "wt = np.unique(df['work_type'])\n",
    "rt = np.unique(df['Residence_type'])\n",
    "ss = np.unique(df['smoking_status'])\n",
    "gn = np.unique(df['gender'])"
   ]
  },
  {
   "cell_type": "code",
   "execution_count": 8,
   "id": "20208b15",
   "metadata": {},
   "outputs": [
    {
     "data": {
      "text/plain": [
       "(array(['Govt_job', 'Never_worked', 'Private', 'Self-employed', 'children'],\n",
       "       dtype=object),\n",
       " array(['Rural', 'Urban'], dtype=object),\n",
       " array(['Unknown', 'formerly smoked', 'never smoked', 'smokes'],\n",
       "       dtype=object),\n",
       " array(['Female', 'Male', 'Other'], dtype=object))"
      ]
     },
     "execution_count": 8,
     "metadata": {},
     "output_type": "execute_result"
    }
   ],
   "source": [
    "wt, rt, ss, gn"
   ]
  },
  {
   "cell_type": "code",
   "execution_count": 9,
   "id": "70020dc4",
   "metadata": {},
   "outputs": [],
   "source": [
    "#transform classes into numbers\n",
    "\n",
    "df.work_type.replace(('Govt_job', 'Never_worked', 'Private', 'Self-employed', 'children'), range(1, 6), inplace=True)\n",
    "df.ever_married.replace(('Yes', 'No'), (1, 2), inplace=True)\n",
    "df.gender.replace(('Male', 'Female', 'Other'), (1, 2, 3), inplace=True)\n",
    "df.Residence_type.replace(('Rural', 'Urban'), (1, 2), inplace=True)\n",
    "df.smoking_status.replace(('Unknown', 'formerly smoked', 'never smoked', 'smokes'), (1, 2, 3, 4), inplace=True)"
   ]
  },
  {
   "cell_type": "markdown",
   "id": "dc796c6d",
   "metadata": {},
   "source": [
    "### Create two different datasets (normal and standardized)"
   ]
  },
  {
   "cell_type": "code",
   "execution_count": 10,
   "id": "20f8f708",
   "metadata": {},
   "outputs": [],
   "source": [
    "X = df.iloc[:, 1:11]\n",
    "y = df.iloc[:, 11]"
   ]
  },
  {
   "cell_type": "code",
   "execution_count": 11,
   "id": "982c71ff",
   "metadata": {},
   "outputs": [],
   "source": [
    "X_train, X_test, y_train, y_test = train_test_split(X, y, test_size=0.3, random_state=1, stratify=y)"
   ]
  },
  {
   "cell_type": "markdown",
   "id": "878c2786",
   "metadata": {},
   "source": [
    "### Data are unbalanced, create synthetic data with SMOTE"
   ]
  },
  {
   "cell_type": "code",
   "execution_count": 12,
   "id": "cd31b2f4",
   "metadata": {},
   "outputs": [],
   "source": [
    "oversample = SMOTE()\n",
    "X_train, y_train = oversample.fit_resample(X_train, y_train)"
   ]
  },
  {
   "cell_type": "code",
   "execution_count": 13,
   "id": "739e6e46",
   "metadata": {},
   "outputs": [],
   "source": [
    "X_std_train = (X_train - np.mean(X_train, axis=0)) / np.std(X_train, axis=0)\n",
    "X_std_test = (X_test - np.mean(X_test, axis=0)) / np.std(X_test, axis=0)"
   ]
  },
  {
   "cell_type": "code",
   "execution_count": 14,
   "id": "67088c6d",
   "metadata": {},
   "outputs": [
    {
     "data": {
      "text/html": [
       "<div>\n",
       "<style scoped>\n",
       "    .dataframe tbody tr th:only-of-type {\n",
       "        vertical-align: middle;\n",
       "    }\n",
       "\n",
       "    .dataframe tbody tr th {\n",
       "        vertical-align: top;\n",
       "    }\n",
       "\n",
       "    .dataframe thead th {\n",
       "        text-align: right;\n",
       "    }\n",
       "</style>\n",
       "<table border=\"1\" class=\"dataframe\">\n",
       "  <thead>\n",
       "    <tr style=\"text-align: right;\">\n",
       "      <th></th>\n",
       "      <th>gender</th>\n",
       "      <th>age</th>\n",
       "      <th>hypertension</th>\n",
       "      <th>heart_disease</th>\n",
       "      <th>ever_married</th>\n",
       "      <th>work_type</th>\n",
       "      <th>Residence_type</th>\n",
       "      <th>avg_glucose_level</th>\n",
       "      <th>bmi</th>\n",
       "      <th>smoking_status</th>\n",
       "    </tr>\n",
       "  </thead>\n",
       "  <tbody>\n",
       "    <tr>\n",
       "      <th>0</th>\n",
       "      <td>2</td>\n",
       "      <td>75.0</td>\n",
       "      <td>0</td>\n",
       "      <td>0</td>\n",
       "      <td>1</td>\n",
       "      <td>4</td>\n",
       "      <td>2</td>\n",
       "      <td>87.69</td>\n",
       "      <td>27.5</td>\n",
       "      <td>2</td>\n",
       "    </tr>\n",
       "    <tr>\n",
       "      <th>1</th>\n",
       "      <td>2</td>\n",
       "      <td>41.0</td>\n",
       "      <td>0</td>\n",
       "      <td>0</td>\n",
       "      <td>1</td>\n",
       "      <td>3</td>\n",
       "      <td>1</td>\n",
       "      <td>83.44</td>\n",
       "      <td>21.5</td>\n",
       "      <td>1</td>\n",
       "    </tr>\n",
       "    <tr>\n",
       "      <th>2</th>\n",
       "      <td>2</td>\n",
       "      <td>12.0</td>\n",
       "      <td>0</td>\n",
       "      <td>0</td>\n",
       "      <td>2</td>\n",
       "      <td>5</td>\n",
       "      <td>2</td>\n",
       "      <td>82.39</td>\n",
       "      <td>17.1</td>\n",
       "      <td>3</td>\n",
       "    </tr>\n",
       "    <tr>\n",
       "      <th>3</th>\n",
       "      <td>2</td>\n",
       "      <td>52.0</td>\n",
       "      <td>0</td>\n",
       "      <td>0</td>\n",
       "      <td>1</td>\n",
       "      <td>3</td>\n",
       "      <td>2</td>\n",
       "      <td>99.10</td>\n",
       "      <td>29.1</td>\n",
       "      <td>1</td>\n",
       "    </tr>\n",
       "    <tr>\n",
       "      <th>4</th>\n",
       "      <td>2</td>\n",
       "      <td>71.0</td>\n",
       "      <td>1</td>\n",
       "      <td>0</td>\n",
       "      <td>1</td>\n",
       "      <td>3</td>\n",
       "      <td>2</td>\n",
       "      <td>194.62</td>\n",
       "      <td>31.6</td>\n",
       "      <td>3</td>\n",
       "    </tr>\n",
       "  </tbody>\n",
       "</table>\n",
       "</div>"
      ],
      "text/plain": [
       "   gender   age  hypertension  heart_disease  ever_married  work_type  \\\n",
       "0       2  75.0             0              0             1          4   \n",
       "1       2  41.0             0              0             1          3   \n",
       "2       2  12.0             0              0             2          5   \n",
       "3       2  52.0             0              0             1          3   \n",
       "4       2  71.0             1              0             1          3   \n",
       "\n",
       "   Residence_type  avg_glucose_level   bmi  smoking_status  \n",
       "0               2              87.69  27.5               2  \n",
       "1               1              83.44  21.5               1  \n",
       "2               2              82.39  17.1               3  \n",
       "3               2              99.10  29.1               1  \n",
       "4               2             194.62  31.6               3  "
      ]
     },
     "execution_count": 14,
     "metadata": {},
     "output_type": "execute_result"
    }
   ],
   "source": [
    "X_train.head()"
   ]
  },
  {
   "cell_type": "code",
   "execution_count": 15,
   "id": "c098cf01",
   "metadata": {},
   "outputs": [
    {
     "data": {
      "text/html": [
       "<div>\n",
       "<style scoped>\n",
       "    .dataframe tbody tr th:only-of-type {\n",
       "        vertical-align: middle;\n",
       "    }\n",
       "\n",
       "    .dataframe tbody tr th {\n",
       "        vertical-align: top;\n",
       "    }\n",
       "\n",
       "    .dataframe thead th {\n",
       "        text-align: right;\n",
       "    }\n",
       "</style>\n",
       "<table border=\"1\" class=\"dataframe\">\n",
       "  <thead>\n",
       "    <tr style=\"text-align: right;\">\n",
       "      <th></th>\n",
       "      <th>gender</th>\n",
       "      <th>age</th>\n",
       "      <th>hypertension</th>\n",
       "      <th>heart_disease</th>\n",
       "      <th>ever_married</th>\n",
       "      <th>work_type</th>\n",
       "      <th>Residence_type</th>\n",
       "      <th>avg_glucose_level</th>\n",
       "      <th>bmi</th>\n",
       "      <th>smoking_status</th>\n",
       "    </tr>\n",
       "  </thead>\n",
       "  <tbody>\n",
       "    <tr>\n",
       "      <th>0</th>\n",
       "      <td>1.101816</td>\n",
       "      <td>0.914318</td>\n",
       "      <td>-0.304103</td>\n",
       "      <td>-0.243743</td>\n",
       "      <td>-0.483557</td>\n",
       "      <td>1.041673</td>\n",
       "      <td>1.298773</td>\n",
       "      <td>-0.536113</td>\n",
       "      <td>-0.275745</td>\n",
       "      <td>-0.403984</td>\n",
       "    </tr>\n",
       "    <tr>\n",
       "      <th>1</th>\n",
       "      <td>1.101816</td>\n",
       "      <td>-0.614646</td>\n",
       "      <td>-0.304103</td>\n",
       "      <td>-0.243743</td>\n",
       "      <td>-0.483557</td>\n",
       "      <td>0.032217</td>\n",
       "      <td>-0.769958</td>\n",
       "      <td>-0.616418</td>\n",
       "      <td>-1.170124</td>\n",
       "      <td>-1.475845</td>\n",
       "    </tr>\n",
       "    <tr>\n",
       "      <th>2</th>\n",
       "      <td>1.101816</td>\n",
       "      <td>-1.918763</td>\n",
       "      <td>-0.304103</td>\n",
       "      <td>-0.243743</td>\n",
       "      <td>2.068010</td>\n",
       "      <td>2.051129</td>\n",
       "      <td>1.298773</td>\n",
       "      <td>-0.636257</td>\n",
       "      <td>-1.826002</td>\n",
       "      <td>0.667877</td>\n",
       "    </tr>\n",
       "    <tr>\n",
       "      <th>3</th>\n",
       "      <td>1.101816</td>\n",
       "      <td>-0.119981</td>\n",
       "      <td>-0.304103</td>\n",
       "      <td>-0.243743</td>\n",
       "      <td>-0.483557</td>\n",
       "      <td>0.032217</td>\n",
       "      <td>1.298773</td>\n",
       "      <td>-0.320521</td>\n",
       "      <td>-0.037244</td>\n",
       "      <td>-1.475845</td>\n",
       "    </tr>\n",
       "    <tr>\n",
       "      <th>4</th>\n",
       "      <td>1.101816</td>\n",
       "      <td>0.734440</td>\n",
       "      <td>3.288356</td>\n",
       "      <td>-0.243743</td>\n",
       "      <td>-0.483557</td>\n",
       "      <td>0.032217</td>\n",
       "      <td>1.298773</td>\n",
       "      <td>1.484338</td>\n",
       "      <td>0.335414</td>\n",
       "      <td>0.667877</td>\n",
       "    </tr>\n",
       "  </tbody>\n",
       "</table>\n",
       "</div>"
      ],
      "text/plain": [
       "     gender       age  hypertension  heart_disease  ever_married  work_type  \\\n",
       "0  1.101816  0.914318     -0.304103      -0.243743     -0.483557   1.041673   \n",
       "1  1.101816 -0.614646     -0.304103      -0.243743     -0.483557   0.032217   \n",
       "2  1.101816 -1.918763     -0.304103      -0.243743      2.068010   2.051129   \n",
       "3  1.101816 -0.119981     -0.304103      -0.243743     -0.483557   0.032217   \n",
       "4  1.101816  0.734440      3.288356      -0.243743     -0.483557   0.032217   \n",
       "\n",
       "   Residence_type  avg_glucose_level       bmi  smoking_status  \n",
       "0        1.298773          -0.536113 -0.275745       -0.403984  \n",
       "1       -0.769958          -0.616418 -1.170124       -1.475845  \n",
       "2        1.298773          -0.636257 -1.826002        0.667877  \n",
       "3        1.298773          -0.320521 -0.037244       -1.475845  \n",
       "4        1.298773           1.484338  0.335414        0.667877  "
      ]
     },
     "execution_count": 15,
     "metadata": {},
     "output_type": "execute_result"
    }
   ],
   "source": [
    "X_std_train.head()"
   ]
  },
  {
   "cell_type": "markdown",
   "id": "3381bacf",
   "metadata": {},
   "source": [
    "### Create another dataset based on correlations"
   ]
  },
  {
   "cell_type": "code",
   "execution_count": 45,
   "id": "ff4e6871",
   "metadata": {},
   "outputs": [],
   "source": [
    "correlations = (df.corr()['stroke'][1:11])\n",
    "names = list(df.columns)"
   ]
  },
  {
   "cell_type": "code",
   "execution_count": 46,
   "id": "db8c011d",
   "metadata": {},
   "outputs": [
    {
     "data": {
      "image/png": "[encoded data removed]",
      "text/plain": [
       "<Figure size 640x480 with 1 Axes>"
      ]
     },
     "metadata": {},
     "output_type": "display_data"
    }
   ],
   "source": [
    "plt.bar(names[1:11], correlations)\n",
    "plt.xticks(rotation=90)\n",
    "plt.show()"
   ]
  },
  {
   "cell_type": "code",
   "execution_count": 47,
   "id": "fa6e08e2",
   "metadata": {},
   "outputs": [
    {
     "data": {
      "image/png": "[encoded data removed]",
      "text/plain": [
       "<Figure size 640x480 with 1 Axes>"
      ]
     },
     "metadata": {},
     "output_type": "display_data"
    }
   ],
   "source": [
    "age = sorted(list(df[\"age\"]))\n",
    "age_rel_s = df.copy()\n",
    "age_rel_s.drop(age_rel_s[age_rel_s['stroke'] == 0].index, inplace=True)\n",
    "age_rel_s = age_rel_s[\"age\"]\n",
    "\n",
    "h_age = np.hstack(age)\n",
    "fig = sns.kdeplot(age, shade=True, color='r')\n",
    "fig = sns.kdeplot(age_rel_s, shade=True, color='b')\n",
    "plt.show()"
   ]
  },
  {
   "cell_type": "code",
   "execution_count": 48,
   "id": "acdee73b",
   "metadata": {},
   "outputs": [],
   "source": [
    "dict_correlations = dict(correlations)\n",
    "X_corr_train, X_corr_test = X_train.copy(), X_test.copy()\n",
    "y_corr_train, y_corr_test = y_train, y_test"
   ]
  },
  {
   "cell_type": "code",
   "execution_count": 49,
   "id": "643c90fc",
   "metadata": {},
   "outputs": [],
   "source": [
    "def get_key_from_value(dictionary, val) -> str:\n",
    "    return [k for k, dictionary in dictionary.items() if dictionary == val]\n",
    "\n",
    "for feature in correlations:\n",
    "    if abs(feature) < 0.04:\n",
    "        to_drop = str(get_key_from_value(dict_correlations, feature))[2:-2]\n",
    "        X_corr_train.drop([to_drop], axis='columns', inplace=True)\n",
    "        X_corr_test.drop([to_drop], axis='columns', inplace=True)"
   ]
  },
  {
   "cell_type": "markdown",
   "id": "af6eb4be",
   "metadata": {},
   "source": [
    "# Train logistic regression models\n",
    "### Original, standardized and correlation based datasets"
   ]
  },
  {
   "cell_type": "code",
   "execution_count": 51,
   "id": "715bae51",
   "metadata": {},
   "outputs": [],
   "source": [
    "lr = LogisticRegression(random_state=1, solver='liblinear')\n",
    "lr_std = LogisticRegression(random_state=1, solver='liblinear')\n",
    "lr_corr = LogisticRegression(random_state=1, solver='liblinear')"
   ]
  },
  {
   "cell_type": "code",
   "execution_count": 52,
   "id": "630111ed",
   "metadata": {},
   "outputs": [
    {
     "data": {
      "text/plain": [
       "0.756958587915818"
      ]
     },
     "execution_count": 52,
     "metadata": {},
     "output_type": "execute_result"
    }
   ],
   "source": [
    "lr.fit(X_train, y_train)\n",
    "normal_score = lr.score(X_test, y_test)\n",
    "normal_score"
   ]
  },
  {
   "cell_type": "code",
   "execution_count": 53,
   "id": "b99b07d9",
   "metadata": {},
   "outputs": [
    {
     "data": {
      "image/png": "[encoded data removed]",
      "text/plain": [
       "<Figure size 640x480 with 2 Axes>"
      ]
     },
     "metadata": {},
     "output_type": "display_data"
    }
   ],
   "source": [
    "y_pred = lr.predict(X_test)\n",
    "cm = confusion_matrix(y_test, y_pred)\n",
    "disp = ConfusionMatrixDisplay(confusion_matrix=cm)\n",
    "disp.plot()\n",
    "plt.show()"
   ]
  },
  {
   "cell_type": "code",
   "execution_count": 54,
   "id": "78b8fdd6",
   "metadata": {},
   "outputs": [
    {
     "data": {
      "text/plain": [
       "0.6666666666666666"
      ]
     },
     "execution_count": 54,
     "metadata": {},
     "output_type": "execute_result"
    }
   ],
   "source": [
    "recall = recall_score(y_test, y_pred)\n",
    "recall"
   ]
  },
  {
   "cell_type": "code",
   "execution_count": 55,
   "id": "247617a2",
   "metadata": {},
   "outputs": [
    {
     "data": {
      "text/plain": [
       "0.5254582484725051"
      ]
     },
     "execution_count": 55,
     "metadata": {},
     "output_type": "execute_result"
    }
   ],
   "source": [
    "lr_std.fit(X_std_train, y_train)\n",
    "standard_score = lr_std.score(X_std_test, y_test)\n",
    "standard_score"
   ]
  },
  {
   "cell_type": "code",
   "execution_count": 56,
   "id": "1a4748c4",
   "metadata": {},
   "outputs": [
    {
     "data": {
      "image/png": "[encoded data removed]",
      "text/plain": [
       "<Figure size 640x480 with 2 Axes>"
      ]
     },
     "metadata": {},
     "output_type": "display_data"
    }
   ],
   "source": [
    "y_std_pred = lr_std.predict(X_std_test)\n",
    "cm_std = confusion_matrix(y_test, y_std_pred)\n",
    "disp_std = ConfusionMatrixDisplay(confusion_matrix=cm_std)\n",
    "disp_std.plot()\n",
    "plt.show()"
   ]
  },
  {
   "cell_type": "code",
   "execution_count": 57,
   "id": "de204c09",
   "metadata": {},
   "outputs": [
    {
     "data": {
      "text/plain": [
       "0.8571428571428571"
      ]
     },
     "execution_count": 57,
     "metadata": {},
     "output_type": "execute_result"
    }
   ],
   "source": [
    "recall_std = recall_score(y_test, y_std_pred)\n",
    "recall_std"
   ]
  },
  {
   "cell_type": "code",
   "execution_count": 58,
   "id": "f87e7cec",
   "metadata": {},
   "outputs": [
    {
     "data": {
      "text/plain": [
       "0.7040054310930075"
      ]
     },
     "execution_count": 58,
     "metadata": {},
     "output_type": "execute_result"
    }
   ],
   "source": [
    "lr_corr.fit(X_corr_train, y_corr_train)\n",
    "correlation_score = lr_corr.score(X_corr_test, y_corr_test)\n",
    "correlation_score"
   ]
  },
  {
   "cell_type": "code",
   "execution_count": 59,
   "id": "59910605",
   "metadata": {},
   "outputs": [
    {
     "data": {
      "image/png": "[encoded data removed]",
      "text/plain": [
       "<Figure size 640x480 with 2 Axes>"
      ]
     },
     "metadata": {},
     "output_type": "display_data"
    }
   ],
   "source": [
    "y_corr_pred = lr_corr.predict(X_corr_test)\n",
    "cm_corr = confusion_matrix(y_corr_test, y_corr_pred)\n",
    "disp_corr = ConfusionMatrixDisplay(confusion_matrix=cm_corr)\n",
    "disp_corr.plot()\n",
    "plt.show()"
   ]
  },
  {
   "cell_type": "code",
   "execution_count": 60,
   "id": "be352470",
   "metadata": {},
   "outputs": [
    {
     "data": {
      "text/plain": [
       "0.6984126984126984"
      ]
     },
     "execution_count": 60,
     "metadata": {},
     "output_type": "execute_result"
    }
   ],
   "source": [
    "recall_corr = recall_score(y_corr_test, y_corr_pred)\n",
    "recall_corr"
   ]
  }
 ],
 "metadata": {
  "kernelspec": {
   "display_name": "Python 3 (ipykernel)",
   "language": "python",
   "name": "python3"
  },
  "language_info": {
   "codemirror_mode": {
    "name": "ipython",
    "version": 3
   },
   "file_extension": ".py",
   "mimetype": "text/x-python",
   "name": "python",
   "nbconvert_exporter": "python",
   "pygments_lexer": "ipython3",
   "version": "3.9.13"
  }
 },
 "nbformat": 4,
 "nbformat_minor": 5
}
